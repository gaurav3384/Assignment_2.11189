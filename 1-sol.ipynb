{
 "cells": [
  {
   "cell_type": "code",
   "execution_count": 6,
   "metadata": {},
   "outputs": [
    {
     "name": "stdout",
     "output_type": "stream",
     "text": [
      "55\n",
      "[2, 4, 6, 8, 10]\n"
     ]
    }
   ],
   "source": [
    "def myreduce(f_name,seq):\n",
    "    it = iter(seq)\n",
    "    acc=next(it)\n",
    "    for el in it:\n",
    "        acc = f_name(acc,el)\n",
    "    return acc\n",
    "\n",
    "f_name = lambda x,y:x+y\n",
    "seq = [1,2,3,4,5,6,7,8,9,10]\n",
    "print(myreduce(f_name,seq))\n",
    "\n",
    "#function must return boolean\n",
    "def myfilter(f_name,seq):\n",
    "    it = iter(seq)\n",
    "    res=list()\n",
    "    for el in it:\n",
    "        if(f_name(el)):\n",
    "            res.append(el)\n",
    "    return res\n",
    "f_even = lambda x:True if(x%2==0) else False\n",
    "print(myfilter(f_even,seq))\n",
    "        "
   ]
  },
  {
   "cell_type": "code",
   "execution_count": null,
   "metadata": {},
   "outputs": [],
   "source": []
  }
 ],
 "metadata": {
  "kernelspec": {
   "display_name": "Python 3",
   "language": "python",
   "name": "python3"
  },
  "language_info": {
   "codemirror_mode": {
    "name": "ipython",
    "version": 3
   },
   "file_extension": ".py",
   "mimetype": "text/x-python",
   "name": "python",
   "nbconvert_exporter": "python",
   "pygments_lexer": "ipython3",
   "version": "3.6.4"
  }
 },
 "nbformat": 4,
 "nbformat_minor": 2
}
